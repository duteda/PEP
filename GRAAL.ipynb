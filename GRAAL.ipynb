{
 "cells": [
  {
   "cell_type": "code",
   "execution_count": 1,
   "metadata": {},
   "outputs": [],
   "source": [
    "import cvxpy as cp, numpy as np\n",
    "from tqdm.notebook import tqdm\n",
    "import matplotlib.pyplot as plt"
   ]
  },
  {
   "cell_type": "code",
   "execution_count": 2,
   "metadata": {},
   "outputs": [],
   "source": [
    "def makeA2(x,y):\n",
    "    # not used except by makeA1\n",
    "    u = x.reshape((-1,1))\n",
    "    v = y.reshape((-1,1))\n",
    "    return (u*v.T+v*u.T) / 2.  # ip(u,v)\n",
    "\n",
    "makeA1 = lambda x: makeA2(x,x) # norm(x)"
   ]
  },
  {
   "cell_type": "code",
   "execution_count": 3,
   "metadata": {},
   "outputs": [],
   "source": [
    "def solvePEP(N):\n",
    "    \n",
    "    dimM = 2*N + 5\n",
    "    dimG = N + 1\n",
    "    nbPts = N + 2\n",
    "    \n",
    "    # encoding vectors\n",
    "    x = np.zeros((nbPts, dimM))  # x_0, ..., x_N, x^*\n",
    "    x_ = np.zeros((nbPts-1, dimM))\n",
    "    F = np.zeros((nbPts, dimM))\n",
    "    dg = np.zeros((nbPts, dimM))\n",
    "    g = np.zeros((nbPts, dimG))\n",
    "    g[:-1,:] = np.eye(nbPts-1)\n",
    "\n",
    "    x[0,0] = x_[0,1] = 1\n",
    "    F[:,2:nbPts+2] = np.eye(nbPts)\n",
    "    dg[:-1,1-nbPts:] = np.eye(nbPts-1)\n",
    "    dg[-1,:] = -F[-1,:]   # 0 \\in F(x^*) + dg(x^*)\n",
    "    # g[:-1,:] = np.eye(nbPts-1)\n",
    "\n",
    "    # encoding GRAAL\n",
    "\n",
    "    for i in range(N):\n",
    "        x[i+1,:] = x_[i,:] - la*(F[i,:] + dg[i,:])\n",
    "        x_[i+1,:] = ((phi-1)*x[i+1,:] + x_[i,:])/phi\n",
    "        \n",
    "    M = cp.Variable((dimM, dimM), PSD=True)\n",
    "    G = cp.Variable((dimG, 1))\n",
    "\n",
    "    # initial radius constraint\n",
    "    constraints = {'radius': cp.trace(M@((phi+1)*makeA1(x_[1,:] - x[-1,:]) + (phi/2)*makeA1(x[1,:] - x[0,:]) )) <= R}\n",
    "    \n",
    "    for i in range(nbPts):\n",
    "        for j in range(nbPts):\n",
    "            if i != j:\n",
    "\n",
    "                # monotonicity\n",
    "                constraints[f'Monotonicty @ ({i},{j})'] = (F[i,:] - F[j,:]) @ M @ (x[i,:] - x[j,:]) >= 0\n",
    "\n",
    "                # Lipschitz\n",
    "                constraints[f'Lipzchitz @ ({i},{j})'] = cp.trace(M@(makeA1(F[i,:] - F[j,:]))) <= L**2*cp.trace(M@makeA1(x[i,:] - x[j,:]))\n",
    "\n",
    "\n",
    "            if i < nbPts-1 and i + 1 != j:\n",
    "                # prox-ineq\n",
    "                constraints[f'prox-ineq @ ({i},{j})'] = (x[i+1,:] - x_[i,:] + la*F[i,:]) @ M @ (x[j,:] - x[i+1,:]) >= la*(g[j,:] - g[i+1,:])@G\n",
    "\n",
    "        if i > 0:\n",
    "            # optimallity condition\n",
    "            constraints[f'opt condition @ ({i})'] = F[0,:] @ M @ (x[i,:] - x[0,:]) >= (g[0,:] - g[i,:])@G\n",
    "    \n",
    "    # x[-1,:] = x^* but x_[-1,:] = x_N\n",
    "    obj = cp.Maximize(cp.trace(M@((phi+1)*makeA1(x_[-1,:]-x[-1,:]) + (phi/2)*makeA1(x[-2,:] - x[-3,:]))))\n",
    "\n",
    "    prob = cp.Problem(obj, constraints.values())\n",
    "    prob.solve(solver=cp.MOSEK)\n",
    "    return obj.value"
   ]
  },
  {
   "cell_type": "code",
   "execution_count": 4,
   "metadata": {},
   "outputs": [],
   "source": [
    "# paramaters\n",
    "\n",
    "L = 1\n",
    "N = 3\n",
    "R = 1\n",
    "phi = (1+np.sqrt(5))/2 # golden ratio\n",
    "la = phi/(2*L) # step-size"
   ]
  },
  {
   "cell_type": "code",
   "execution_count": 5,
   "metadata": {},
   "outputs": [],
   "source": [
    "dimM = 2*N + 5\n",
    "dimG = N + 1\n",
    "nbPts = N + 2"
   ]
  },
  {
   "cell_type": "code",
   "execution_count": 6,
   "metadata": {},
   "outputs": [],
   "source": [
    "# encoding vectors\n",
    "\n",
    "x = np.zeros((nbPts, dimM))  # x^*, x_0, ..., x_N\n",
    "x_ = np.zeros((nbPts-1, dimM))\n",
    "F = np.zeros((nbPts, dimM))\n",
    "dg = np.zeros((nbPts, dimM))\n",
    "g = np.eye(nbPts)\n",
    "\n",
    "x[0,0] = x_[0,1] = 1\n",
    "F[:,2:nbPts+2] = np.eye(nbPts)\n",
    "dg[:-1,1-nbPts:] = np.eye(nbPts-1)\n",
    "dg[-1,:] = -F[-1,:]   # 0 \\in F(x^*) + dg(x^*)\n",
    "\n",
    "# encoding GRAAL\n",
    "\n",
    "for i in range(N):\n",
    "    x[i+1,:] = x_[i,:] - la*(F[i,:] + dg[i,:])\n",
    "    x_[i+1,:] = ((phi-1)*x[i+1,:] + x_[i,:])/phi"
   ]
  },
  {
   "cell_type": "code",
   "execution_count": 7,
   "metadata": {},
   "outputs": [],
   "source": [
    "M = cp.Variable((dimM, dimM), PSD=True)\n",
    "G = cp.Variable((nbPts, 1))\n",
    "\n",
    "# initial radius constraint\n",
    "constraints = {'radius': cp.trace(M@((phi+1)*makeA1(x_[1,:] - x[-1,:]) + (phi/2)*makeA1(x[1,:] - x[0,:]) )) <= R}\n",
    "# constraints = {'radius 1': cp.trace(M@(makeA1(x[0,:] - x[-1,:]))) <= R}\n",
    "# constraints['radius 2'] = cp.trace(M@(makeA1(x_[0,:] - x[-1,:]))) <= R\n",
    "\n",
    "for i in range(nbPts):\n",
    "    for j in range(nbPts):\n",
    "        if i != j:\n",
    "            \n",
    "            # monotonicity\n",
    "            constraints[f'Monotonicty @ ({i},{j})'] = (F[i,:] - F[j,:]) @ M @ (x[i,:] - x[j,:]) >= 0\n",
    "            \n",
    "            # Lipschitz\n",
    "            constraints[f'Lipzchitz @ ({i},{j})'] = cp.trace(M@(makeA1(F[i,:] - F[j,:]))) <= L**2 *cp.trace(M@makeA1(x[i,:] - x[j,:]))\n",
    "        \n",
    "        \n",
    "        if i < nbPts-1 and i + 1 != j:\n",
    "            # prox-ineq\n",
    "            constraints[f'prox-ineq @ ({i},{j})'] = (x[i+1,:] - x_[i,:] + la*F[i,:]) @ M @ (x[j,:] - x[i+1,:]) >= la*(g[j,:] - g[i+1,:])@G\n",
    "    \n",
    "    if i < nbPts-1:\n",
    "        # optimallity condition\n",
    "        constraints[f'opt condition @ ({i})'] = F[-1,:] @ M @ (x[i,:] - x[-1,:]) >= (g[-1,:] - g[i,:])@G\n",
    "\n",
    "# original constraints, these give opt value ~= 1 (in the N=2 case)\n",
    "# constraints = [cp.trace(M@makeA2(F[1,:] - F[-1,:], x[1,:] - x[-1,:])) >= 0, \n",
    "#                cp.trace(M@makeA1(F[0,:] - F[1,:])) <= L**2 * cp.trace(M@makeA1(x[0,:] - x[1,:])),\n",
    "#                cp.trace(M@makeA2(x[2,:] - x_[1,:] + la*F[1,:], x[-1,:] - x[2,:])) >= la*(g[2,:] - g[-1,:])@G,\n",
    "#                cp.trace(M@makeA2(x[1,:] - x_[0,:] + la*F[0,:], x[2,:] - x[1,:])) >= la*(g[1,:] - g[2,:])@G,\n",
    "#                cp.trace(M@makeA2(F[-1,:], x[1,:] - x[-1,:])) >= (g[-1,:] - g[1,:])@G,\n",
    "#                cp.trace(M@((phi+1)*makeA1(x_[1,:] - x[-1,:]) + (phi/2)*makeA1(x[1,:] - x[0,:]))) == R]"
   ]
  },
  {
   "cell_type": "code",
   "execution_count": 8,
   "metadata": {
    "scrolled": true
   },
   "outputs": [
    {
     "name": "stdout",
     "output_type": "stream",
     "text": [
      "===============================================================================\n",
      "                                     CVXPY                                     \n",
      "                                    v1.1.13                                    \n",
      "===============================================================================\n",
      "(CVXPY) Jul 19 02:18:56 PM: Your problem has 126 variables, 61 constraints, and 0 parameters.\n",
      "(CVXPY) Jul 19 02:18:56 PM: It is compliant with the following grammars: DCP, DQCP\n",
      "(CVXPY) Jul 19 02:18:56 PM: (If you need to solve this problem multiple times, but with different data, consider using parameters.)\n",
      "(CVXPY) Jul 19 02:18:56 PM: CVXPY will first compile your problem; then, it will invoke a numerical solver to obtain a solution.\n",
      "-------------------------------------------------------------------------------\n",
      "                                  Compilation                                  \n",
      "-------------------------------------------------------------------------------\n",
      "(CVXPY) Jul 19 02:18:56 PM: Compiling problem (target solver=MOSEK).\n",
      "(CVXPY) Jul 19 02:18:56 PM: Reduction chain: FlipObjective -> Dcp2Cone -> CvxAttr2Constr -> ConeMatrixStuffing -> MOSEK\n",
      "(CVXPY) Jul 19 02:18:56 PM: Applying reduction FlipObjective\n",
      "(CVXPY) Jul 19 02:18:56 PM: Applying reduction Dcp2Cone\n",
      "(CVXPY) Jul 19 02:18:56 PM: Applying reduction CvxAttr2Constr\n",
      "(CVXPY) Jul 19 02:18:56 PM: Applying reduction ConeMatrixStuffing\n",
      "(CVXPY) Jul 19 02:18:56 PM: Applying reduction MOSEK\n",
      "(CVXPY) Jul 19 02:18:56 PM: Finished problem compilation (took 1.067e-01 seconds).\n",
      "-------------------------------------------------------------------------------\n",
      "                                Numerical solver                               \n",
      "-------------------------------------------------------------------------------\n",
      "(CVXPY) Jul 19 02:18:56 PM: Invoking solver MOSEK  to obtain a solution.\n",
      "\n",
      "\n",
      "Problem\n",
      "  Name                   :                 \n",
      "  Objective sense        : max             \n",
      "  Type                   : CONIC (conic optimization problem)\n",
      "  Constraints            : 71              \n",
      "  Cones                  : 0               \n",
      "  Scalar variables       : 61              \n",
      "  Matrix variables       : 1               \n",
      "  Integer variables      : 0               \n",
      "\n",
      "Optimizer started.\n",
      "Problem\n",
      "  Name                   :                 \n",
      "  Objective sense        : max             \n",
      "  Type                   : CONIC (conic optimization problem)\n",
      "  Constraints            : 71              \n",
      "  Cones                  : 0               \n",
      "  Scalar variables       : 61              \n",
      "  Matrix variables       : 1               \n",
      "  Integer variables      : 0               \n",
      "\n",
      "Optimizer  - threads                : 4               \n",
      "Optimizer  - solved problem         : the primal      \n",
      "Optimizer  - Constraints            : 69\n",
      "Optimizer  - Cones                  : 0\n",
      "Optimizer  - Scalar variables       : 40                conic                  : 0               \n",
      "Optimizer  - Semi-definite variables: 1                 scalarized             : 66              \n",
      "Factor     - setup time             : 0.00              dense det. time        : 0.00            \n",
      "Factor     - ML order time          : 0.00              GP order time          : 0.00            \n",
      "Factor     - nonzeros before factor : 2332              after factor           : 2335            \n",
      "Factor     - dense dim.             : 0                 flops                  : 1.29e+05        \n",
      "ITE PFEAS    DFEAS    GFEAS    PRSTATUS   POBJ              DOBJ              MU       TIME  \n",
      "0   1.8e+00  1.0e+00  1.0e+00  0.00e+00   0.000000000e+00   0.000000000e+00   1.0e+00  0.03  \n",
      "1   5.1e-01  2.9e-01  1.9e-01  1.02e+00   -8.004628709e-01  -9.055013961e-01  2.9e-01  0.06  \n",
      "2   1.6e-01  8.9e-02  1.8e-02  1.50e+00   -6.903756726e-01  -6.652308975e-01  8.9e-02  0.06  \n",
      "3   5.2e-02  2.9e-02  3.0e-03  1.57e+00   -5.185097187e-01  -5.119472422e-01  2.9e-02  0.06  \n",
      "4   1.1e-02  6.4e-03  3.0e-04  1.20e+00   -4.946291231e-01  -4.933386685e-01  6.4e-03  0.06  \n",
      "5   3.4e-03  1.9e-03  4.8e-05  9.37e-01   -4.798725322e-01  -4.794470282e-01  1.9e-03  0.06  \n",
      "6   7.9e-04  4.4e-04  5.3e-06  1.01e+00   -4.769590711e-01  -4.768544919e-01  4.4e-04  0.06  \n",
      "7   2.2e-04  1.3e-04  8.1e-07  9.68e-01   -4.762998399e-01  -4.762684918e-01  1.3e-04  0.08  \n",
      "8   3.4e-05  1.9e-05  4.6e-08  1.02e+00   -4.762050905e-01  -4.762002226e-01  1.9e-05  0.08  \n",
      "9   1.7e-06  9.6e-07  5.2e-10  9.97e-01   -4.761709323e-01  -4.761706842e-01  9.6e-07  0.08  \n",
      "10  1.4e-08  7.7e-09  3.7e-13  1.00e+00   -4.761681123e-01  -4.761681102e-01  7.7e-09  0.08  \n",
      "Optimizer terminated. Time: 0.09    \n",
      "\n",
      "\n",
      "Interior-point solution summary\n",
      "  Problem status  : PRIMAL_AND_DUAL_FEASIBLE\n",
      "  Solution status : OPTIMAL\n",
      "  Primal.  obj: -4.7616811230e-01   nrm: 3e+00    Viol.  con: 2e-08    var: 7e-10    barvar: 0e+00  \n",
      "  Dual.    obj: -4.7616811023e-01   nrm: 7e-01    Viol.  con: 0e+00    var: 4e-09    barvar: 4e-09  \n",
      "-------------------------------------------------------------------------------\n",
      "                                    Summary                                    \n",
      "-------------------------------------------------------------------------------\n",
      "(CVXPY) Jul 19 02:18:56 PM: Problem status: optimal\n",
      "(CVXPY) Jul 19 02:18:56 PM: Optimal value: 4.762e-01\n",
      "(CVXPY) Jul 19 02:18:56 PM: Compilation took 1.067e-01 seconds\n",
      "(CVXPY) Jul 19 02:18:56 PM: Solver (including time spent in interface) took 1.306e-01 seconds\n"
     ]
    },
    {
     "data": {
      "text/plain": [
       "0.4761681102285322"
      ]
     },
     "execution_count": 8,
     "metadata": {},
     "output_type": "execute_result"
    }
   ],
   "source": [
    "# x[-1,:] = x^* but x_[-1,:] = x_N\n",
    "obj = cp.Maximize(cp.trace(M@((phi+1)*makeA1(x_[-1,:]-x[-1,:]) + (phi/2)*makeA1(x[-2,:] - x[-3,:]))))\n",
    "# obj = cp.Maximize(cp.trace(M@makeA1(x[-2,:] - x[-1,:]))) # || x_N - x^* ||^2\n",
    "prob = cp.Problem(obj, constraints.values())\n",
    "prob.solve(solver=cp.MOSEK, verbose=True)"
   ]
  },
  {
   "cell_type": "code",
   "execution_count": 9,
   "metadata": {
    "scrolled": true
   },
   "outputs": [
    {
     "name": "stdout",
     "output_type": "stream",
     "text": [
      "PEP value: 0.4762\n",
      "\tradius: 0.4762\n",
      "\tMonotonicty @ (0,1): 0.0073\n",
      "\tLipzchitz @ (0,1): 0.2616\n",
      "\tMonotonicty @ (0,2): 0.0739\n",
      "\tLipzchitz @ (0,2): 0.0766\n",
      "\tprox-ineq @ (0,2): 1.5881\n",
      "\tMonotonicty @ (0,3): 0.0364\n",
      "\tLipzchitz @ (0,3): 0.0052\n",
      "\tMonotonicty @ (0,4): 0.0444\n",
      "\tLipzchitz @ (0,4): 0.0089\n",
      "\tprox-ineq @ (1,1): 1.1542\n",
      "\tMonotonicty @ (1,2): 0.0627\n",
      "\tLipzchitz @ (1,2): 0.6134\n",
      "\tMonotonicty @ (1,3): 0.3686\n",
      "\tLipzchitz @ (1,3): 0.4176\n",
      "\tprox-ineq @ (1,3): 1.6135\n",
      "\tMonotonicty @ (1,4): 0.0223\n",
      "\tLipzchitz @ (1,4): 0.0011\n",
      "\tprox-ineq @ (1,4): 1.2607\n",
      "\tprox-ineq @ (2,1): 0.3956\n",
      "\tprox-ineq @ (2,2): 2.0537\n",
      "\tMonotonicty @ (2,3): 0.0858\n",
      "\tLipzchitz @ (2,3): 0.6149\n",
      "\tMonotonicty @ (2,4): 0.0029\n",
      "\tLipzchitz @ (2,4): 0.0017\n",
      "\tprox-ineq @ (2,4): 1.8489\n",
      "\tprox-ineq @ (3,1): 0.0383\n",
      "\tprox-ineq @ (3,2): 0.3866\n",
      "\tprox-ineq @ (3,3): 2.6848\n",
      "\tMonotonicty @ (3,4): 0.0052\n",
      "\tLipzchitz @ (3,4): 0.0337\n"
     ]
    }
   ],
   "source": [
    "# objective\n",
    "print('PEP value: {:.4f}'.format(obj.value))\n",
    "# print('Theo value?: {:.4f}'.format(R/la/N))\n",
    "\n",
    "for name,c in constraints.items():\n",
    "    if not np.isclose(c.dual_value, 0, atol=1e-4):\n",
    "        print('\\t{}: {:.4f}'.format(name, float(c.dual_value)))"
   ]
  },
  {
   "cell_type": "code",
   "execution_count": 10,
   "metadata": {},
   "outputs": [],
   "source": [
    "N_RANGE = range(1,21)"
   ]
  },
  {
   "cell_type": "code",
   "execution_count": 11,
   "metadata": {},
   "outputs": [
    {
     "data": {
      "application/vnd.jupyter.widget-view+json": {
       "model_id": "76abb86b939043bebaa4920104733889",
       "version_major": 2,
       "version_minor": 0
      },
      "text/plain": [
       "HBox(children=(FloatProgress(value=0.0, max=20.0), HTML(value='')))"
      ]
     },
     "metadata": {},
     "output_type": "display_data"
    },
    {
     "name": "stdout",
     "output_type": "stream",
     "text": [
      "\n"
     ]
    }
   ],
   "source": [
    "results = [solvePEP(N) for N in tqdm(N_RANGE)]"
   ]
  },
  {
   "cell_type": "code",
   "execution_count": 12,
   "metadata": {},
   "outputs": [
    {
     "data": {
      "image/png": "[encoded data removed]",
      "text/plain": [
       "<Figure size 720x720 with 1 Axes>"
      ]
     },
     "metadata": {
      "needs_background": "light"
     },
     "output_type": "display_data"
    }
   ],
   "source": [
    "fig = plt.figure(figsize=(10,10))\n",
    "plt.plot(N_RANGE, results, 'b.-')\n",
    "plt.xticks(N_RANGE)\n",
    "\n",
    "# f = np.vectorize(lambda x: (1/2)**x)\n",
    "# plt.plot(N_RANGE, f(N_RANGE), 'r.-')\n",
    "\n",
    "f = np.vectorize(lambda x: 1/x)\n",
    "plt.plot(N_RANGE, f(N_RANGE), 'g.-')\n",
    "\n",
    "f = np.vectorize(lambda x: 1/x**2)\n",
    "plt.plot(N_RANGE, f(N_RANGE), 'r.-')\n",
    "\n",
    "plt.show()"
   ]
  },
  {
   "cell_type": "code",
   "execution_count": null,
   "metadata": {},
   "outputs": [],
   "source": []
  }
 ],
 "metadata": {
  "kernelspec": {
   "display_name": "Python 3",
   "language": "python",
   "name": "python3"
  },
  "language_info": {
   "codemirror_mode": {
    "name": "ipython",
    "version": 3
   },
   "file_extension": ".py",
   "mimetype": "text/x-python",
   "name": "python",
   "nbconvert_exporter": "python",
   "pygments_lexer": "ipython3",
   "version": "3.8.3"
  }
 },
 "nbformat": 4,
 "nbformat_minor": 4
}
