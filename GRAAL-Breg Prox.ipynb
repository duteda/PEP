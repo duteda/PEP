{
 "cells": [
  {
   "cell_type": "code",
   "execution_count": 1,
   "metadata": {},
   "outputs": [],
   "source": [
    "import cvxpy as cp, numpy as np"
   ]
  },
  {
   "cell_type": "code",
   "execution_count": 2,
   "metadata": {},
   "outputs": [],
   "source": [
    "def makeA2(x,y):\n",
    "    # not used except by makeA1\n",
    "    u = x.reshape((-1,1))\n",
    "    v = y.reshape((-1,1))\n",
    "    return (u*v.T+v*u.T) / 2.  # ip(u,v)\n",
    "\n",
    "makeA1 = lambda x: makeA2(x,x) # norm(x)"
   ]
  },
  {
   "cell_type": "code",
   "execution_count": 88,
   "metadata": {},
   "outputs": [],
   "source": [
    "# paramaters\n",
    "\n",
    "L = 1\n",
    "sig = 1 # h strong convexity paramater\n",
    "N = 3\n",
    "R = 1\n",
    "phi = (1+np.sqrt(5))/2 # golden ratio\n",
    "la = (phi/(2*L*sig)) # step-size"
   ]
  },
  {
   "cell_type": "code",
   "execution_count": 89,
   "metadata": {},
   "outputs": [],
   "source": [
    "dimM = 4*N + 9\n",
    "dimH = dimG = N + 1\n",
    "nbPts = N + 2"
   ]
  },
  {
   "cell_type": "code",
   "execution_count": 149,
   "metadata": {},
   "outputs": [],
   "source": [
    "# encoding vectors\n",
    "\n",
    "x = np.zeros((nbPts, dimM))  # x^*, x_0, ..., x_N\n",
    "x_ = np.zeros((nbPts, dimM))\n",
    "F = np.zeros((nbPts, dimM))\n",
    "dg = np.zeros((nbPts, dimM))\n",
    "dh = np.zeros((nbPts, dimM))\n",
    "dh_ = np.zeros((nbPts, dimM))\n",
    "h = np.zeros((nbPts, dimH))\n",
    "\n",
    "dh[:2,-4:-2] = dh_[:2,-2:] = np.eye(2)\n",
    "x[1:,:nbPts-1] = np.eye(nbPts-1)\n",
    "x_[1:,nbPts-1:2*nbPts-2] = np.eye(nbPts-1)\n",
    "F[:,2*nbPts-2:3*nbPts-2] = np.eye(nbPts)\n",
    "dg[1:,3*nbPts-2:4*nbPts-3] = np.eye(nbPts-1)\n",
    "dg[0,:] = -F[0,:]\n",
    "\n",
    "h[1:,]  = np.eye(nbPts-1)\n",
    "h_ = h.copy()\n",
    "g = h.copy()\n",
    "g_ = h.copy()\n",
    "\n",
    "# encoding GRAAL\n",
    "p = (phi-1)/(phi) # (phi-1)/phi^2 --> 1.09\n",
    "q = 1-p\n",
    "for i in range(N):\n",
    "    dh[i+2,:] = dh_[i+1,:] - la*(F[i+1,:]+dg[i+1,:])\n",
    "    dh_[i+2,:] = p*dh[i+2,:] + q*dh_[i+1,:]"
   ]
  },
  {
   "cell_type": "markdown",
   "metadata": {},
   "source": [
    "Same as MD but with the prox-function g:\n",
    "\n",
    "$$x_{k+1} = \\arg\\min_{x\\in C} \\{\\langle F({x}_k), x - x_k\\rangle + \\frac{1}{\\lambda} D_h(x, \\bar{x}_k)\\} \\iff \\langle\\nabla h(x_{k+1}) - \\nabla h(\\bar{x}_k) + \\lambda F(x_k), x-x_{k+1}\\rangle \\geq \\lambda(g(x_{k+1}) - g(x)) \\quad\\forall x\\in C$$\n",
    "\n",
    "And the optimallity condition:\n",
    "\n",
    "$$\\langle F(x^*), x - x^*\\rangle \\geq g(x^*) - g(x) \\quad \\forall x \\in C$$"
   ]
  },
  {
   "cell_type": "code",
   "execution_count": 155,
   "metadata": {},
   "outputs": [],
   "source": [
    "M = cp.Variable((dimM, dimM), PSD=True)\n",
    "H = cp.Variable((dimH, 1))\n",
    "H_ = cp.Variable((dimH, 1))\n",
    "G = cp.Variable((dimG, 1))\n",
    "G_ = cp.Variable((dimG, 1))\n",
    "\n",
    "constraints = {'radius': ((1+phi)*(h[0,:]@H - h_[2,:]@H_ - dh_[2,:] @ M @ (x[0,:] - x_[2,:]))        #(1+phi)D_h(x^*, x_k)\n",
    "                          + (phi/2)*((h[2,:] - h[1,:])@H - dh[1,:] @ M @ (x[2,:] - x[1,:]))) <= R}   #(phi/2)D_h(x_k, x_{k-1})\n",
    "               \n",
    "\n",
    "for i in range(nbPts):\n",
    "    for j in range(nbPts):\n",
    "        if i != j:\n",
    "            constraints[f'Monotonicity @ ({i},{j})'] = (F[i,:] - F[j,:]) @ M @ (x[i,:] - x[j,:]) >= 0\n",
    "            \n",
    "            constraints[f'Lipschitz @ ({i}, {j})'] = cp.trace(M@makeA1(F[i,:] - F[j,:])) <= (L**2)*cp.trace(M@makeA1(x[i,:] - x[j,:]))\n",
    "            \n",
    "            constraints[f'Strong Convexity @ ({i}, {j})'] = (h[i,:] - h[j,:])@H - dh[j,:] @ M @ (x[i,:] - x[j,:]) >= (sig/2)*cp.trace(M@makeA1(x[i,:] - x[j,:]))\n",
    "            constraints[f'Strong Convexity @ ({i}, {j}_)'] = h[i,:]@H - h_[j,:]@H_ - dh_[j,:] @ M @ (x[i,:] - x_[j,:]) >= (sig/2)*cp.trace(M@makeA1(x[i,:] - x_[j,:]))\n",
    "            constraints[f'Strong Convexity @ ({i}_, {j}_)'] = (h_[i,:] - h_[j,:])@H_ - dh_[j,:] @ M @ (x_[i,:] - x_[j,:]) >= (sig/2)*cp.trace(M@makeA1(x_[i,:] - x_[j,:]))\n",
    "            constraints[f'Strong Convexity @ ({i}_, {j})'] = (h_[i,:] - h[j,:])@H_ - dh[j,:] @ M @ (x_[i,:] - x[j,:]) >= (sig/2)*cp.trace(M@makeA1(x_[i,:] - x[j,:]))\n",
    "            \n",
    "        if 0 < i < nbPts-1 and i+1 != j:\n",
    "            constraints[f'Pythag @ ({i}, {j})'] = (dh_[i,:] - dh[i+1,:] - la*F[i,:]) @ M @ (x[i+1,:] - x[j,:]) >= la*(g[i+1,:] - g[j,:])@G\n",
    "            \n",
    "    if i > 0:\n",
    "        constraints[f'Opt @ ({i})'] = F[0,:] @ M @ (x[i,:] - x[0,:]) >= (g[0,:] - g[i,:])@G\n",
    "        \n",
    "    if 0 < i < nbPts-1:\n",
    "        constraints[f'Decreasing @ ({i})'] = (h[i+1,:]@H - h_[i+1,:]@H_) - dh_[i+1,:]@ M @(x[i+1,:] - x_[i+1,:]) <= phi*(h[i,:]@H - h_[i,:]@H_ - dh_[i,:] @ M @ (x[i,:] - x_[i,:]))\n",
    "        constraints[f'Assumption @ ({i})'] = (h[i+1,:]@H - h_[i+1,:]@H_) - dh_[i+1,:]@ M @(x[i+1,:] - x_[i+1,:]) <=  (phi-1)*(h[i+1,:]@H - h_[i,:]@H_ - dh_[i,:] @ M @ (x[i+1,:] - x_[i,:]))\n",
    "#         constraints[f'Assumption @ ({i})'] = ((phi+1)*((h[i+1,:]@H - h_[i+1,:]@H_) - dh_[i+1,:]@ M @(x[i+1,:] - x_[i+1,:]))     # (1+phi)D_h(x_{k+1}, \\bar{x}_{k+1})\n",
    "#                                               - (h[i+1,:]@H - h_[i,:]@H_ - dh_[i,:] @ M @ (x[i+1,:] - x_[i,:]))                 # D_h(x_{k+1}, \\bar{x}_k)\n",
    "#                                               - phi*(h[i,:]@H - h_[i,:]@H_ - dh_[i,:] @ M @ (x[i,:] - x_[i,:]))) <= 0           # phi D_h(x_k, \\bar{x}_k)"
   ]
  },
  {
   "cell_type": "code",
   "execution_count": 156,
   "metadata": {
    "scrolled": true
   },
   "outputs": [
    {
     "data": {
      "text/plain": [
       "0.9999999702122857"
      ]
     },
     "execution_count": 156,
     "metadata": {},
     "output_type": "execute_result"
    }
   ],
   "source": [
    "obj = cp.Maximize((1+phi)*((h[0,:]@H - h_[-1,:]@H_) - dh_[-1,:]@ M @(x[0,:] - x_[-1,:])) # (1+phi)D_h (x^*, \\bar{x}_{k+1})\n",
    "                  + (phi/2)*((h[-1,:] - h[-2,:])@H - dh[-2,:]@ M @(x[-1,:] - x[-2,:])))  # (phi/2)D_h (x_{k+1}, x_k)\n",
    "prob = cp.Problem(obj, constraints.values())\n",
    "prob.solve(solver=cp.MOSEK)"
   ]
  },
  {
   "cell_type": "code",
   "execution_count": 127,
   "metadata": {},
   "outputs": [
    {
     "name": "stdout",
     "output_type": "stream",
     "text": [
      "PEP value: 1.3090\n",
      "\tradius: 1.3090\n",
      "\tMonotonicity @ (0,1): 0.0530\n",
      "\tLipschitz @ (0, 1): 0.0117\n",
      "\tMonotonicity @ (0,2): 0.8597\n",
      "\tLipschitz @ (0, 2): 0.0822\n",
      "\tStrong Convexity @ (0, 2): 0.4215\n",
      "\tMonotonicity @ (0,3): 0.9062\n",
      "\tLipschitz @ (0, 3): 0.0722\n",
      "\tStrong Convexity @ (0, 3): 0.2499\n",
      "\tMonotonicity @ (0,4): 0.2841\n",
      "\tLipschitz @ (0, 4): 0.0131\n",
      "\tStrong Convexity @ (0, 4): 0.1376\n",
      "\tPythag @ (1, 0): 0.2605\n",
      "\tMonotonicity @ (1,2): 0.0188\n",
      "\tLipschitz @ (1, 2): 0.4112\n",
      "\tMonotonicity @ (1,3): 0.0728\n",
      "\tLipschitz @ (1, 3): 0.0170\n",
      "\tPythag @ (1, 3): 1.3330\n",
      "\tMonotonicity @ (1,4): 0.0425\n",
      "\tLipschitz @ (1, 4): 0.0147\n",
      "\tPythag @ (1, 4): 0.2074\n",
      "\tPythag @ (2, 0): 1.3024\n",
      "\tStrong Convexity @ (2, 1): 1.0590\n",
      "\tPythag @ (2, 2): 0.6722\n",
      "\tMonotonicity @ (2,3): 0.0245\n",
      "\tLipschitz @ (2, 3): 0.5190\n",
      "\tStrong Convexity @ (2, 3): 0.5958\n",
      "\tMonotonicity @ (2,4): 0.0453\n",
      "\tLipschitz @ (2, 4): 0.0783\n",
      "\tStrong Convexity @ (2, 4): 0.2002\n",
      "\tPythag @ (2, 4): 1.0459\n",
      "\tOpt @ (2): 0.7512\n",
      "\tAssumption @ (2): 1.3090\n",
      "\tPythag @ (3, 0): 1.1376\n",
      "\tStrong Convexity @ (3, 2): 2.1569\n",
      "\tPythag @ (3, 2): 0.2002\n",
      "\tPythag @ (3, 3): 0.5885\n",
      "\tMonotonicity @ (3,4): 0.0341\n",
      "\tLipschitz @ (3, 4): 0.1826\n",
      "\tStrong Convexity @ (3, 4): 0.5885\n",
      "\tOpt @ (3): 0.8892\n",
      "\tAssumption @ (3): 1.3090\n",
      "\tStrong Convexity @ (4, 2): 0.3356\n",
      "\tStrong Convexity @ (4, 3): 1.0907\n",
      "\tOpt @ (4): 0.5445\n"
     ]
    }
   ],
   "source": [
    "# objective\n",
    "print('PEP value: {:.4f}'.format(obj.value))\n",
    "# print('Theo value: {:.4f}'.format(R/lam/N))\n",
    "\n",
    "for name,c in constraints.items():\n",
    "    if not np.isclose(c.dual_value, 0, atol=1e-3):\n",
    "        print('\\t{}: {:.4f}'.format(name, float(c.dual_value)))"
   ]
  },
  {
   "cell_type": "code",
   "execution_count": null,
   "metadata": {},
   "outputs": [],
   "source": []
  }
 ],
 "metadata": {
  "kernelspec": {
   "display_name": "Python 3",
   "language": "python",
   "name": "python3"
  },
  "language_info": {
   "codemirror_mode": {
    "name": "ipython",
    "version": 3
   },
   "file_extension": ".py",
   "mimetype": "text/x-python",
   "name": "python",
   "nbconvert_exporter": "python",
   "pygments_lexer": "ipython3",
   "version": "3.8.3"
  }
 },
 "nbformat": 4,
 "nbformat_minor": 4
}
