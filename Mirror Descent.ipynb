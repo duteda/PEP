{
 "cells": [
  {
   "cell_type": "code",
   "execution_count": 109,
   "metadata": {},
   "outputs": [],
   "source": [
    "import cvxpy as cp, numpy as np"
   ]
  },
  {
   "cell_type": "code",
   "execution_count": 110,
   "metadata": {},
   "outputs": [],
   "source": [
    "def makeA2(x,y):\n",
    "    u = x.reshape((-1,1))\n",
    "    v = y.reshape((-1,1))\n",
    "    return (u*v.T+v*u.T) / 2.  # ip(u,v)\n",
    "\n",
    "makeA1 = lambda x: makeA2(x,x)"
   ]
  },
  {
   "cell_type": "code",
   "execution_count": 111,
   "metadata": {},
   "outputs": [],
   "source": [
    "# Paramaters\n",
    "\n",
    "N = 6     # no. iterations\n",
    "L = 1   # h-smoothness constant\n",
    "lam = 1/L # step-size\n",
    "R = 1     # initial radius\n",
    "# sig = 1   # strong-convexity paramater"
   ]
  },
  {
   "cell_type": "code",
   "execution_count": 112,
   "metadata": {},
   "outputs": [],
   "source": [
    "dimM = 3*N + 5\n",
    "dimF = dimG = dimH = N + 2\n",
    "nbPts = N + 2"
   ]
  },
  {
   "cell_type": "code",
   "execution_count": 113,
   "metadata": {},
   "outputs": [],
   "source": [
    "# encoding vectors \n",
    "\n",
    "x = np.zeros((nbPts, dimM))  # iterates x^*, x_0, x_1, \\dots, x_N\n",
    "df = np.zeros((nbPts, dimM)) # \\nabla f\n",
    "dh = np.zeros((nbPts, dimM)) # \\nabla h\n",
    "dg = np.zeros((nbPts, dimM)) # normal cone to constraints\n",
    "f = np.zeros((nbPts, dimF))  # function values\n",
    "\n",
    "x[1:,:nbPts-1] = np.eye(nbPts-1)\n",
    "df[:,nbPts-1:2*nbPts-1] = np.eye(nbPts)\n",
    "dg[1:,-nbPts:-1] = np.eye(nbPts-1)\n",
    "dg[0,:] = -df[0,:]\n",
    "dh[1,-1] = 1\n",
    "\n",
    "f[1:,:nbPts-1] = np.eye(nbPts-1)\n",
    "h = f.copy() # kernel values"
   ]
  },
  {
   "cell_type": "code",
   "execution_count": 114,
   "metadata": {},
   "outputs": [],
   "source": [
    "# encoding the NoLips algorithm\n",
    "\n",
    "for i in range(N):\n",
    "    dh[i+2,:] = dh[i+1,:] - lam * (df[i+1,:] + dg[i+1,:])"
   ]
  },
  {
   "cell_type": "markdown",
   "metadata": {},
   "source": [
    "### Essentialy the PEP is the same as that of NoLips, except here we include the Pythag thm for Bregman Projection.\n",
    "\n",
    "$$\\langle \\nabla h(x_{k+1})  - \\nabla h(x_k) + \\lambda\\nabla f(x_k), x - x_{k+1}\\rangle \\ge 0 \\quad \\forall x\\in C$$"
   ]
  },
  {
   "cell_type": "code",
   "execution_count": 115,
   "metadata": {},
   "outputs": [],
   "source": [
    "M = cp.Variable((dimM, dimM), PSD=True)\n",
    "F = cp.Variable((dimF, 1))\n",
    "H = cp.Variable((dimH, 1))\n",
    "\n",
    "# initial radius constraints\n",
    "constraints = {'radius': (h[0,:] - h[1,:])@H - dh[1,:] @ M @ (x[0,:] - x[1,:]) <= R} # D_h(x^*, x_0) \n",
    "\n",
    "# convexity constraints\n",
    "for i in range(nbPts):\n",
    "    for j in range(nbPts):\n",
    "        if i != j:\n",
    "            # convexity of f\n",
    "            constraints[f'f conv @ ({i},{j})'] = (f[j,:] - f[i,:])@F + df[j,:] @ M @ (x[i,:] - x[j,:]) <= 0\n",
    "            \n",
    "            # convexity of g\n",
    "#             constraints[f'g conv @ ({i},{j})'] = (g[j,:] - g[i,:])@G + dg[j,:] @ M @ (x[i,:] - x[j,:]) <= 0\n",
    "            \n",
    "            # strong-convexity of h       \n",
    "            \n",
    "            # convexity of Lh - f\n",
    "            constraints[f'Lh - f conv @ ({i},{j})'] = L*(h[j,:] - h[i,:])@H - (f[j,:] - f[i,:])@F + (L*dh[j,:] - df[j,:]) @ M @ (x[i,:] - x[j,:]) <= 0\n",
    "        \n",
    "        if 0 < i < nbPts-1 and i+1!=j:\n",
    "            # projection ineq (Pythagorean)\n",
    "            constraints[f'Pythag @ ({i}, {j})'] = (dh[i+1,:] - dh[i,:] + lam*df[i,:]) @ M @ (x[j,:] - x[i+1,:]) >= 0"
   ]
  },
  {
   "cell_type": "code",
   "execution_count": 116,
   "metadata": {},
   "outputs": [
    {
     "data": {
      "text/plain": [
       "0.16666663136077708"
      ]
     },
     "execution_count": 116,
     "metadata": {},
     "output_type": "execute_result"
    }
   ],
   "source": [
    "# objective\n",
    "obj = cp.Maximize((f[-1,:] - f[0,:])@F)\n",
    "prob = cp.Problem(obj,constraints.values())\n",
    "prob.solve(solver=cp.MOSEK)"
   ]
  },
  {
   "cell_type": "code",
   "execution_count": 117,
   "metadata": {},
   "outputs": [
    {
     "name": "stdout",
     "output_type": "stream",
     "text": [
      "PEP value: 0.1667\n",
      "Theo value: 0.1667\n",
      "\tradius: 0.1667\n",
      "\tf conv @ (0,1): 0.1667\n",
      "\tf conv @ (0,2): 0.1667\n",
      "\tf conv @ (0,3): 0.1667\n",
      "\tf conv @ (0,4): 0.1667\n",
      "\tf conv @ (0,5): 0.1667\n",
      "\tf conv @ (0,6): 0.1667\n",
      "\tf conv @ (0,7): 0.1667\n",
      "\tLh - f conv @ (0,7): 0.1667\n",
      "\tPythag @ (1, 0): 0.1667\n",
      "\tPythag @ (2, 0): 0.1667\n",
      "\tLh - f conv @ (2,1): 0.1667\n",
      "\tPythag @ (2, 2): 0.0679\n",
      "\tf conv @ (2,3): 0.0679\n",
      "\tLh - f conv @ (2,3): 0.0272\n",
      "\tf conv @ (2,4): 0.0407\n",
      "\tLh - f conv @ (2,4): 0.0131\n",
      "\tf conv @ (2,5): 0.0277\n",
      "\tLh - f conv @ (2,5): 0.0086\n",
      "\tf conv @ (2,6): 0.0191\n",
      "\tLh - f conv @ (2,6): 0.0078\n",
      "\tf conv @ (2,7): 0.0113\n",
      "\tLh - f conv @ (2,7): 0.0113\n",
      "\tPythag @ (3, 0): 0.1667\n",
      "\tLh - f conv @ (3,2): 0.2346\n",
      "\tPythag @ (3, 2): 0.0407\n",
      "\tPythag @ (3, 3): 0.1070\n",
      "\tf conv @ (3,4): 0.1070\n",
      "\tLh - f conv @ (3,4): 0.0442\n",
      "\tf conv @ (3,5): 0.0629\n",
      "\tLh - f conv @ (3,5): 0.0218\n",
      "\tf conv @ (3,6): 0.0410\n",
      "\tLh - f conv @ (3,6): 0.0174\n",
      "\tf conv @ (3,7): 0.0237\n",
      "\tLh - f conv @ (3,7): 0.0237\n",
      "\tPythag @ (4, 0): 0.1667\n",
      "\tPythag @ (4, 2): 0.0277\n",
      "\tLh - f conv @ (4,3): 0.3145\n",
      "\tPythag @ (4, 3): 0.0629\n",
      "\tPythag @ (4, 4): 0.1561\n",
      "\tf conv @ (4,5): 0.1561\n",
      "\tLh - f conv @ (4,5): 0.0591\n",
      "\tf conv @ (4,6): 0.0970\n",
      "\tLh - f conv @ (4,6): 0.0356\n",
      "\tf conv @ (4,7): 0.0614\n",
      "\tLh - f conv @ (4,7): 0.0614\n",
      "\tPythag @ (5, 0): 0.1667\n",
      "\tPythag @ (5, 2): 0.0191\n",
      "\tPythag @ (5, 3): 0.0410\n",
      "\tLh - f conv @ (5,4): 0.4133\n",
      "\tPythag @ (5, 4): 0.0970\n",
      "\tPythag @ (5, 5): 0.2504\n",
      "\tf conv @ (5,6): 0.2504\n",
      "\tLh - f conv @ (5,6): 0.0875\n",
      "\tf conv @ (5,7): 0.1629\n",
      "\tLh - f conv @ (5,7): 0.1629\n",
      "\tPythag @ (6, 0): 0.1667\n",
      "\tPythag @ (6, 2): 0.0113\n",
      "\tPythag @ (6, 3): 0.0237\n",
      "\tPythag @ (6, 4): 0.0614\n",
      "\tLh - f conv @ (6,5): 0.5742\n",
      "\tPythag @ (6, 5): 0.1629\n",
      "\tPythag @ (6, 6): 0.5742\n",
      "\tf conv @ (6,7): 0.5742\n",
      "\tLh - f conv @ (6,7): 0.5742\n",
      "\tLh - f conv @ (7,6): 1.0000\n"
     ]
    }
   ],
   "source": [
    "print('PEP value: {:.4f}'.format(obj.value))\n",
    "print('Theo value: {:.4f}'.format(L*R/N))\n",
    "\n",
    "for name,c in constraints.items():\n",
    "    if not np.isclose(c.dual_value, 0, atol=1e-4):\n",
    "        print('\\t{}: {:.4f}'.format(name, float(c.dual_value)))"
   ]
  },
  {
   "cell_type": "code",
   "execution_count": null,
   "metadata": {},
   "outputs": [],
   "source": []
  }
 ],
 "metadata": {
  "kernelspec": {
   "display_name": "Python 3",
   "language": "python",
   "name": "python3"
  },
  "language_info": {
   "codemirror_mode": {
    "name": "ipython",
    "version": 3
   },
   "file_extension": ".py",
   "mimetype": "text/x-python",
   "name": "python",
   "nbconvert_exporter": "python",
   "pygments_lexer": "ipython3",
   "version": "3.8.3"
  }
 },
 "nbformat": 4,
 "nbformat_minor": 4
}
